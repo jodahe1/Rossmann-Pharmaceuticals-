{
 "cells": [
  {
   "cell_type": "code",
   "execution_count": 17,
   "metadata": {},
   "outputs": [],
   "source": [
    "import pandas as pd\n",
    "from sklearn.impute import SimpleImputer\n",
    "from sklearn.pipeline import Pipeline\n",
    "from sklearn.base import BaseEstimator, TransformerMixin\n",
    "import matplotlib.pyplot as plt"
   ]
  },
  {
   "cell_type": "code",
   "execution_count": 2,
   "metadata": {},
   "outputs": [],
   "source": [
    "# Load the CSV file\n",
    "dfStore = pd.read_csv('../data/store.csv')\n",
    "test_df = pd.read_csv('../data/test.csv')\n"
   ]
  },
  {
   "cell_type": "code",
   "execution_count": 3,
   "metadata": {},
   "outputs": [
    {
     "name": "stderr",
     "output_type": "stream",
     "text": [
      "C:\\Users\\huawei\\AppData\\Local\\Temp\\ipykernel_9672\\3163751236.py:1: DtypeWarning: Columns (7) have mixed types. Specify dtype option on import or set low_memory=False.\n",
      "  train_df=pd.read_csv('../data/train.csv')\n"
     ]
    }
   ],
   "source": [
    "train_df=pd.read_csv('../data/train.csv')"
   ]
  },
  {
   "cell_type": "code",
   "execution_count": 4,
   "metadata": {},
   "outputs": [
    {
     "name": "stdout",
     "output_type": "stream",
     "text": [
      "Store Data\n",
      "Number of Rows: 1115\n",
      "Number of Columns: 10\n"
     ]
    }
   ],
   "source": [
    "# Get the number of rows and columns\n",
    "num_rows = dfStore.shape[0]\n",
    "num_cols = dfStore.shape[1]\n",
    "\n",
    "# Print the number of rows and columns\n",
    "print(\"Store Data\")\n",
    "print(\"Number of Rows:\", num_rows)\n",
    "print(\"Number of Columns:\", num_cols)"
   ]
  },
  {
   "cell_type": "code",
   "execution_count": 5,
   "metadata": {},
   "outputs": [
    {
     "name": "stdout",
     "output_type": "stream",
     "text": [
      "Test Data\n",
      "Number of Rows: 41088\n",
      "Number of Columns: 8\n"
     ]
    }
   ],
   "source": [
    "# Get the number of rows and columns\n",
    "num_rows = test_df.shape[0]\n",
    "num_cols = test_df.shape[1]\n",
    "\n",
    "# Print the number of rows and columns\n",
    "print(\"Test Data\")\n",
    "print(\"Number of Rows:\", num_rows)\n",
    "print(\"Number of Columns:\", num_cols)"
   ]
  },
  {
   "cell_type": "code",
   "execution_count": 6,
   "metadata": {},
   "outputs": [
    {
     "name": "stdout",
     "output_type": "stream",
     "text": [
      "Train Data\n",
      "Number of Rows: 1017209\n",
      "Number of Columns: 9\n"
     ]
    }
   ],
   "source": [
    "# Get the number of rows and columns\n",
    "num_rows = train_df.shape[0]\n",
    "num_cols = train_df.shape[1]\n",
    "\n",
    "# Print the number of rows and columns\n",
    "print(\"Train Data\")\n",
    "print(\"Number of Rows:\", num_rows)\n",
    "print(\"Number of Columns:\", num_cols)"
   ]
  },
  {
   "cell_type": "markdown",
   "metadata": {},
   "source": [
    "StoreCSv"
   ]
  },
  {
   "cell_type": "code",
   "execution_count": 7,
   "metadata": {},
   "outputs": [],
   "source": [
    "# Remove rows with NaN values\n",
    "dfStore = dfStore.dropna()\n",
    "\n",
    "# Create a pipeline for numeric columns\n",
    "numeric_pipeline = Pipeline([\n",
    "    ('imputer', SimpleImputer(strategy='median'))\n",
    "])\n",
    "\n",
    "# Create a pipeline for non-numeric columns\n",
    "non_numeric_pipeline = Pipeline([\n",
    "    ('imputer', SimpleImputer(strategy='most_frequent'))\n",
    "])"
   ]
  },
  {
   "cell_type": "code",
   "execution_count": 8,
   "metadata": {},
   "outputs": [],
   "source": [
    "# Identify numeric and non-numeric columns\n",
    "numeric_cols = dfStore.select_dtypes(include='number').columns\n",
    "non_numeric_cols = dfStore.select_dtypes(exclude='number').columns\n",
    "\n",
    "# Apply pipelines to numeric columns\n",
    "dfStore[numeric_cols] = numeric_pipeline.fit_transform(dfStore[numeric_cols])\n",
    "\n",
    "# Apply pipelines to non-numeric columns\n",
    "dfStore[non_numeric_cols] = non_numeric_pipeline.fit_transform(dfStore[non_numeric_cols])"
   ]
  },
  {
   "cell_type": "code",
   "execution_count": 9,
   "metadata": {},
   "outputs": [
    {
     "name": "stdout",
     "output_type": "stream",
     "text": [
      "Store Data\n",
      "Number of Rows: 365\n",
      "Number of Columns: 10\n"
     ]
    }
   ],
   "source": [
    "num_rows = dfStore.shape[0]\n",
    "num_cols = dfStore.shape[1]\n",
    "print(\"Store Data\")\n",
    "print(\"Number of Rows:\", num_rows)\n",
    "print(\"Number of Columns:\", num_cols)"
   ]
  },
  {
   "cell_type": "markdown",
   "metadata": {},
   "source": [
    "TestCSV"
   ]
  },
  {
   "cell_type": "code",
   "execution_count": 10,
   "metadata": {},
   "outputs": [],
   "source": [
    "# Custom transformer to filter rows based on Store column\n",
    "class FilterStore(BaseEstimator, TransformerMixin):\n",
    "    def fit(self, X, y=None):\n",
    "        return self\n",
    "    \n",
    "    def transform(self, X):\n",
    "        return X[X['Store'].isin(dfStore['Store'])]\n",
    "\n",
    "# Custom transformer to filter rows based on Open column\n",
    "class FilterOpen(BaseEstimator, TransformerMixin):\n",
    "    def fit(self, X, y=None):\n",
    "        return self\n",
    "    \n",
    "    def transform(self, X):\n",
    "        return X[X['Open'].isin([0, 1])]\n",
    "\n",
    "# Custom transformer to filter rows based on StateHoliday column\n",
    "class FilterStateHoliday(BaseEstimator, TransformerMixin):\n",
    "    def fit(self, X, y=None):\n",
    "        return self\n",
    "    \n",
    "    def transform(self, X):\n",
    "        return X[X['StateHoliday'].isin(['a', 'b', 'c', 0])]\n",
    "\n",
    "# Custom transformer to remove rows with NaN values\n",
    "class RemoveNaN(BaseEstimator, TransformerMixin):\n",
    "    def fit(self, X, y=None):\n",
    "        return self\n",
    "    \n",
    "    def transform(self, X):\n",
    "        return X.dropna()"
   ]
  },
  {
   "cell_type": "code",
   "execution_count": 11,
   "metadata": {},
   "outputs": [],
   "source": [
    "# Create a pipeline to perform the tasks\n",
    "pipeline = Pipeline([\n",
    "    ('filter_store', FilterStore()),\n",
    "    ('filter_open', FilterOpen()),\n",
    "    ('filter_state_holiday', FilterStateHoliday()),\n",
    "    ('remove_nan', RemoveNaN())\n",
    "])"
   ]
  },
  {
   "cell_type": "code",
   "execution_count": 12,
   "metadata": {},
   "outputs": [],
   "source": [
    "# Apply the pipeline to the test_data\n",
    "filtered_data = pipeline.fit_transform(test_df)"
   ]
  },
  {
   "cell_type": "markdown",
   "metadata": {},
   "source": [
    "Train"
   ]
  },
  {
   "cell_type": "code",
   "execution_count": 13,
   "metadata": {},
   "outputs": [],
   "source": [
    "# Apply the pipeline to the Train Data\n",
    "filtered_data = pipeline.fit_transform(train_df)"
   ]
  },
  {
   "cell_type": "code",
   "execution_count": 14,
   "metadata": {},
   "outputs": [
    {
     "name": "stdout",
     "output_type": "stream",
     "text": [
      "Store Data\n",
      "Number of Rows: 1017209\n",
      "Number of Columns: 9\n"
     ]
    }
   ],
   "source": [
    "num_rows = train_df.shape[0]\n",
    "num_cols = train_df.shape[1]\n",
    "print(\"Store Data\")\n",
    "print(\"Number of Rows:\", num_rows)\n",
    "print(\"Number of Columns:\", num_cols)"
   ]
  },
  {
   "cell_type": "markdown",
   "metadata": {},
   "source": [
    "●\tCheck for distribution in both training and test sets - are the promotions distributed similarly between these two groups?\n",
    "\n",
    "they are slightly different \n",
    "\n",
    "In the training set, approximately 38.2% of the records have a promotion (Promo=1), while around 61.8% do not have a promotion (Promo=0).\n",
    "\n",
    "In the test set, approximately 39.6% of the records have a promotion (Promo=1), while around 60.4% do not have a promotion (Promo=0).\n",
    "\n",
    "Although the distributions are not exactly the same, they are relatively similar, with both sets having a higher proportion of records without promotions (Promo=0)."
   ]
  },
  {
   "cell_type": "code",
   "execution_count": 20,
   "metadata": {},
   "outputs": [
    {
     "name": "stdout",
     "output_type": "stream",
     "text": [
      "Training set promotion distribution:\n",
      "Promo\n",
      "0    0.618485\n",
      "1    0.381515\n",
      "Name: proportion, dtype: float64\n"
     ]
    }
   ],
   "source": [
    "# Check distribution of promotions in the training set\n",
    "train_promo_distribution = train_df['Promo'].value_counts(normalize=True)\n",
    "print(\"Training set promotion distribution:\")\n",
    "print(train_promo_distribution)\n",
    "\n"
   ]
  },
  {
   "cell_type": "code",
   "execution_count": 21,
   "metadata": {},
   "outputs": [
    {
     "name": "stdout",
     "output_type": "stream",
     "text": [
      "\n",
      "Test set promotion distribution:\n",
      "Promo\n",
      "0    0.604167\n",
      "1    0.395833\n",
      "Name: proportion, dtype: float64\n"
     ]
    }
   ],
   "source": [
    "# Check distribution of promotions in the test set\n",
    "test_promo_distribution = test_df['Promo'].value_counts(normalize=True)\n",
    "print(\"\\nTest set promotion distribution:\")\n",
    "print(test_promo_distribution)"
   ]
  },
  {
   "cell_type": "code",
   "execution_count": 18,
   "metadata": {},
   "outputs": [
    {
     "data": {
      "image/png": "[encoded data removed]",
      "text/plain": [
       "<Figure size 800x600 with 1 Axes>"
      ]
     },
     "metadata": {},
     "output_type": "display_data"
    }
   ],
   "source": [
    "# Plotting the distribution of promotions in the training set\n",
    "plt.figure(figsize=(8, 6))\n",
    "plt.bar(train_promo_distribution.index, train_promo_distribution.values)\n",
    "plt.title(\"Training Set Promotion Distribution\")\n",
    "plt.xlabel(\"Promotion\")\n",
    "plt.ylabel(\"Percentage\")\n",
    "plt.xticks(train_promo_distribution.index, ['No Promo', 'Promo'])\n",
    "plt.show()"
   ]
  },
  {
   "cell_type": "code",
   "execution_count": 19,
   "metadata": {},
   "outputs": [
    {
     "data": {
      "image/png": "[encoded data removed]",
      "text/plain": [
       "<Figure size 800x600 with 1 Axes>"
      ]
     },
     "metadata": {},
     "output_type": "display_data"
    }
   ],
   "source": [
    "# Plotting the distribution of promotions in the test set\n",
    "plt.figure(figsize=(8, 6))\n",
    "plt.bar(test_promo_distribution.index, test_promo_distribution.values)\n",
    "plt.title(\"Test Set Promotion Distribution\")\n",
    "plt.xlabel(\"Promotion\")\n",
    "plt.ylabel(\"Percentage\")\n",
    "plt.xticks(test_promo_distribution.index, ['No Promo', 'Promo'])\n",
    "plt.show()"
   ]
  },
  {
   "cell_type": "markdown",
   "metadata": {},
   "source": [
    "Check & compare sales behavior before, during, and after holidays"
   ]
  },
  {
   "cell_type": "markdown",
   "metadata": {},
   "source": [
    "Using Train CSV"
   ]
  },
  {
   "cell_type": "code",
   "execution_count": 22,
   "metadata": {},
   "outputs": [],
   "source": [
    "# Convert the 'Date' column to datetime\n",
    "train_df['Date'] = pd.to_datetime(train_df['Date'])"
   ]
  },
  {
   "cell_type": "code",
   "execution_count": 23,
   "metadata": {},
   "outputs": [],
   "source": [
    "# Create a new column 'HolidayPeriod'\n",
    "train_df['HolidayPeriod'] = 'Non-Holiday'"
   ]
  },
  {
   "cell_type": "code",
   "execution_count": 24,
   "metadata": {},
   "outputs": [],
   "source": [
    "# Identify the sales behavior before, during, and after holidays\n",
    "train_df.loc[train_df['StateHoliday'] != '0', 'HolidayPeriod'] = 'During Holiday'\n",
    "train_df.loc[(train_df['StateHoliday'] == '0') & (train_df['StateHoliday'].shift(1) != '0'), 'HolidayPeriod'] = 'Before Holiday'\n",
    "train_df.loc[(train_df['StateHoliday'] == '0') & (train_df['StateHoliday'].shift(-1) != '0'), 'HolidayPeriod'] = 'After Holiday'\n"
   ]
  },
  {
   "cell_type": "code",
   "execution_count": 25,
   "metadata": {},
   "outputs": [
    {
     "name": "stdout",
     "output_type": "stream",
     "text": [
      "HolidayPeriod\n",
      "After Holiday     6970.543073\n",
      "Before Holiday    6918.088683\n",
      "During Holiday    4684.874237\n",
      "Non-Holiday       5975.683664\n",
      "Name: Sales, dtype: float64\n"
     ]
    }
   ],
   "source": [
    "# Calculate the average sales for each holiday period\n",
    "average_sales_by_period = train_df.groupby('HolidayPeriod')['Sales'].mean()\n"
   ]
  },
  {
   "cell_type": "code",
   "execution_count": 26,
   "metadata": {},
   "outputs": [
    {
     "name": "stdout",
     "output_type": "stream",
     "text": [
      "HolidayPeriod\n",
      "After Holiday     6970.543073\n",
      "Before Holiday    6918.088683\n",
      "During Holiday    4684.874237\n",
      "Non-Holiday       5975.683664\n",
      "Name: Sales, dtype: float64\n"
     ]
    }
   ],
   "source": [
    "# Print the average sales for each holiday period\n",
    "print(average_sales_by_period)"
   ]
  },
  {
   "cell_type": "code",
   "execution_count": 31,
   "metadata": {},
   "outputs": [
    {
     "data": {
      "image/png": "[encoded data removed]",
      "text/plain": [
       "<Figure size 640x480 with 1 Axes>"
      ]
     },
     "metadata": {},
     "output_type": "display_data"
    }
   ],
   "source": [
    "# Data for the pie chart\n",
    "labels = average_sales_by_period.index\n",
    "sizes = average_sales_by_period.values\n",
    "\n",
    "# Plotting the pie chart\n",
    "plt.pie(sizes, labels=labels, autopct='%1.1f%%', startangle=90)\n",
    "\n",
    "# Adding a title\n",
    "plt.title(\"Average Sales by Holiday Period\")\n",
    "\n",
    "# Display the chart\n",
    "plt.show()"
   ]
  },
  {
   "cell_type": "markdown",
   "metadata": {},
   "source": [
    "●\tFind out any seasonal (Christmas, Easter, etc) purchase behaviors,"
   ]
  }
 ],
 "metadata": {
  "kernelspec": {
   "display_name": "Python 3",
   "language": "python",
   "name": "python3"
  },
  "language_info": {
   "codemirror_mode": {
    "name": "ipython",
    "version": 3
   },
   "file_extension": ".py",
   "mimetype": "text/x-python",
   "name": "python",
   "nbconvert_exporter": "python",
   "pygments_lexer": "ipython3",
   "version": "3.11.7"
  }
 },
 "nbformat": 4,
 "nbformat_minor": 2
}
