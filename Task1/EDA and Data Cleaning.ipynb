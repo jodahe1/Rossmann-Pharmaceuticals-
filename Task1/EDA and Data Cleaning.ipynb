{
 "cells": [
  {
   "cell_type": "code",
   "execution_count": 42,
   "metadata": {},
   "outputs": [],
   "source": [
    "import pandas as pd\n",
    "from sklearn.impute import SimpleImputer\n",
    "from sklearn.pipeline import Pipeline\n",
    "from sklearn.base import BaseEstimator, TransformerMixin"
   ]
  },
  {
   "cell_type": "code",
   "execution_count": 39,
   "metadata": {},
   "outputs": [],
   "source": [
    "# Load the CSV file\n",
    "dfStore = pd.read_csv('../data/store.csv')\n",
    "test_df = pd.read_csv('../data/test.csv')\n"
   ]
  },
  {
   "cell_type": "code",
   "execution_count": 52,
   "metadata": {},
   "outputs": [
    {
     "name": "stdout",
     "output_type": "stream",
     "text": [
      "Store Data\n",
      "Number of Rows: 365\n",
      "Number of Columns: 10\n"
     ]
    }
   ],
   "source": [
    "# Get the number of rows and columns\n",
    "num_rows = dfStore.shape[0]\n",
    "num_cols = dfStore.shape[1]\n",
    "\n",
    "# Print the number of rows and columns\n",
    "print(\"Store Data\")\n",
    "print(\"Number of Rows:\", num_rows)\n",
    "print(\"Number of Columns:\", num_cols)"
   ]
  },
  {
   "cell_type": "code",
   "execution_count": 61,
   "metadata": {},
   "outputs": [
    {
     "name": "stdout",
     "output_type": "stream",
     "text": [
      "Test Data\n",
      "Number of Rows: 41088\n",
      "Number of Columns: 8\n"
     ]
    }
   ],
   "source": [
    "# Get the number of rows and columns\n",
    "num_rows = test_df.shape[0]\n",
    "num_cols = test_df.shape[1]\n",
    "\n",
    "# Print the number of rows and columns\n",
    "print(\"Test Data\")\n",
    "print(\"Number of Rows:\", num_rows)\n",
    "print(\"Number of Columns:\", num_cols)"
   ]
  },
  {
   "cell_type": "markdown",
   "metadata": {},
   "source": [
    "StoreCSv"
   ]
  },
  {
   "cell_type": "code",
   "execution_count": 43,
   "metadata": {},
   "outputs": [],
   "source": [
    "# Remove rows with NaN values\n",
    "dfStore = dfStore.dropna()\n",
    "\n",
    "# Create a pipeline for numeric columns\n",
    "numeric_pipeline = Pipeline([\n",
    "    ('imputer', SimpleImputer(strategy='median'))\n",
    "])\n",
    "\n",
    "# Create a pipeline for non-numeric columns\n",
    "non_numeric_pipeline = Pipeline([\n",
    "    ('imputer', SimpleImputer(strategy='most_frequent'))\n",
    "])"
   ]
  },
  {
   "cell_type": "code",
   "execution_count": 30,
   "metadata": {},
   "outputs": [],
   "source": [
    "# Identify numeric and non-numeric columns\n",
    "numeric_cols = dfStore.select_dtypes(include='number').columns\n",
    "non_numeric_cols = dfStore.select_dtypes(exclude='number').columns\n",
    "\n",
    "# Apply pipelines to numeric columns\n",
    "dfStore[numeric_cols] = numeric_pipeline.fit_transform(dfStore[numeric_cols])\n",
    "\n",
    "# Apply pipelines to non-numeric columns\n",
    "dfStore[non_numeric_cols] = non_numeric_pipeline.fit_transform(dfStore[non_numeric_cols])"
   ]
  },
  {
   "cell_type": "code",
   "execution_count": 45,
   "metadata": {},
   "outputs": [
    {
     "name": "stdout",
     "output_type": "stream",
     "text": [
      "Store Data\n",
      "Number of Rows: 365\n",
      "Number of Columns: 10\n"
     ]
    }
   ],
   "source": [
    "num_rows = dfStore.shape[0]\n",
    "num_cols = dfStore.shape[1]\n",
    "print(\"Store Data\")\n",
    "print(\"Number of Rows:\", num_rows)\n",
    "print(\"Number of Columns:\", num_cols)"
   ]
  },
  {
   "cell_type": "markdown",
   "metadata": {},
   "source": [
    "TestCSV"
   ]
  },
  {
   "cell_type": "code",
   "execution_count": 62,
   "metadata": {},
   "outputs": [],
   "source": [
    "# Custom transformer to filter rows based on Store column\n",
    "class FilterStore(BaseEstimator, TransformerMixin):\n",
    "    def fit(self, X, y=None):\n",
    "        return self\n",
    "    \n",
    "    def transform(self, X):\n",
    "        return X[X['Store'].isin(dfStore['Store'])]\n",
    "\n",
    "# Custom transformer to filter rows based on Open column\n",
    "class FilterOpen(BaseEstimator, TransformerMixin):\n",
    "    def fit(self, X, y=None):\n",
    "        return self\n",
    "    \n",
    "    def transform(self, X):\n",
    "        return X[X['Open'].isin([0, 1])]\n",
    "\n",
    "# Custom transformer to filter rows based on StateHoliday column\n",
    "class FilterStateHoliday(BaseEstimator, TransformerMixin):\n",
    "    def fit(self, X, y=None):\n",
    "        return self\n",
    "    \n",
    "    def transform(self, X):\n",
    "        return X[X['StateHoliday'].isin(['a', 'b', 'c', 0])]\n",
    "\n",
    "# Custom transformer to remove rows with NaN values\n",
    "class RemoveNaN(BaseEstimator, TransformerMixin):\n",
    "    def fit(self, X, y=None):\n",
    "        return self\n",
    "    \n",
    "    def transform(self, X):\n",
    "        return X.dropna()"
   ]
  },
  {
   "cell_type": "code",
   "execution_count": 63,
   "metadata": {},
   "outputs": [],
   "source": [
    "# Create a pipeline to perform the tasks\n",
    "pipeline = Pipeline([\n",
    "    ('filter_store', FilterStore()),\n",
    "    ('filter_open', FilterOpen()),\n",
    "    ('filter_state_holiday', FilterStateHoliday()),\n",
    "    ('remove_nan', RemoveNaN())\n",
    "])"
   ]
  },
  {
   "cell_type": "code",
   "execution_count": 64,
   "metadata": {},
   "outputs": [],
   "source": [
    "# Apply the pipeline to the test_data\n",
    "filtered_data = pipeline.fit_transform(test_df)"
   ]
  }
 ],
 "metadata": {
  "kernelspec": {
   "display_name": "Python 3",
   "language": "python",
   "name": "python3"
  },
  "language_info": {
   "codemirror_mode": {
    "name": "ipython",
    "version": 3
   },
   "file_extension": ".py",
   "mimetype": "text/x-python",
   "name": "python",
   "nbconvert_exporter": "python",
   "pygments_lexer": "ipython3",
   "version": "3.11.7"
  }
 },
 "nbformat": 4,
 "nbformat_minor": 2
}
